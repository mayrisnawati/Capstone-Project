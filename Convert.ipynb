{
  "nbformat": 4,
  "nbformat_minor": 0,
  "metadata": {
    "colab": {
      "provenance": [],
      "authorship_tag": "ABX9TyPwLpgBQk709/3nTt6BaucD",
      "include_colab_link": true
    },
    "kernelspec": {
      "name": "python3",
      "display_name": "Python 3"
    },
    "language_info": {
      "name": "python"
    }
  },
  "cells": [
    {
      "cell_type": "markdown",
      "metadata": {
        "id": "view-in-github",
        "colab_type": "text"
      },
      "source": [
        "<a href=\"https://colab.research.google.com/github/mayrisnawati/Capstone-Project/blob/master/Convert.ipynb\" target=\"_parent\"><img src=\"https://colab.research.google.com/assets/colab-badge.svg\" alt=\"Open In Colab\"/></a>"
      ]
    },
    {
      "cell_type": "code",
      "execution_count": 1,
      "metadata": {
        "colab": {
          "base_uri": "https://localhost:8080/"
        },
        "id": "-P-EhczcySkh",
        "outputId": "869dcdf3-2790-4253-c8c4-35424205f1a0"
      },
      "outputs": [
        {
          "output_type": "stream",
          "name": "stdout",
          "text": [
            "Mounted at /content/drive\n"
          ]
        }
      ],
      "source": [
        "from PIL import Image\n",
        "import os\n",
        "from google.colab import drive\n",
        "drive.mount('/content/drive')"
      ]
    },
    {
      "cell_type": "code",
      "source": [
        "input_file = \"/content/drive/MyDrive/Road\"\n",
        "output_file = '/content/drive/MyDrive/Road_Convert'"
      ],
      "metadata": {
        "id": "f0P0CFXhyTXF"
      },
      "execution_count": 2,
      "outputs": []
    },
    {
      "cell_type": "code",
      "source": [
        "import glob\n",
        "\n",
        "# Cari semua file dengan ekstensi .heic di dalam folder\n",
        "heic_files = glob.glob(f\"{input_file}/*.HEIC\")\n",
        "\n",
        "# Hitung jumlah file dengan format .heic\n",
        "jumlah_foto_heic = len(heic_files)\n",
        "\n",
        "# Tampilkan hasil\n",
        "print(f\"Jumlah foto dengan format HEIC: {jumlah_foto_heic}\")"
      ],
      "metadata": {
        "colab": {
          "base_uri": "https://localhost:8080/"
        },
        "id": "fU_NuhTYyXNy",
        "outputId": "7d63dbac-42d8-4f68-ab5b-6f2eec53426f"
      },
      "execution_count": 4,
      "outputs": [
        {
          "output_type": "stream",
          "name": "stdout",
          "text": [
            "Jumlah foto dengan format HEIC: 255\n"
          ]
        }
      ]
    },
    {
      "cell_type": "code",
      "source": [
        "pip install pyheif"
      ],
      "metadata": {
        "colab": {
          "base_uri": "https://localhost:8080/"
        },
        "id": "GaliOJeQzx3z",
        "outputId": "c0d84db6-d2ee-469d-c95a-b51591b12389"
      },
      "execution_count": 8,
      "outputs": [
        {
          "output_type": "stream",
          "name": "stdout",
          "text": [
            "Looking in indexes: https://pypi.org/simple, https://us-python.pkg.dev/colab-wheels/public/simple/\n",
            "Collecting pyheif\n",
            "  Downloading pyheif-0.7.1-cp310-cp310-manylinux_2_17_x86_64.manylinux2014_x86_64.whl (9.8 MB)\n",
            "\u001b[2K     \u001b[90m━━━━━━━━━━━━━━━━━━━━━━━━━━━━━━━━━━━━━━━━\u001b[0m \u001b[32m9.8/9.8 MB\u001b[0m \u001b[31m13.5 MB/s\u001b[0m eta \u001b[36m0:00:00\u001b[0m\n",
            "\u001b[?25hRequirement already satisfied: cffi>=1.0.0 in /usr/local/lib/python3.10/dist-packages (from pyheif) (1.15.1)\n",
            "Requirement already satisfied: pycparser in /usr/local/lib/python3.10/dist-packages (from cffi>=1.0.0->pyheif) (2.21)\n",
            "Installing collected packages: pyheif\n",
            "Successfully installed pyheif-0.7.1\n"
          ]
        }
      ]
    },
    {
      "cell_type": "code",
      "source": [
        "folder_asal =  \"/content/drive/MyDrive/Road\"\n",
        "folder_tujuan = '/content/drive/MyDrive/Road_Convert'\n",
        "\n",
        "import os\n",
        "import pyheif\n",
        "from PIL import Image\n",
        "\n",
        "# Loop melalui setiap file dalam folder asal\n",
        "for file_name in os.listdir(folder_asal):\n",
        "    if file_name.endswith('.HEIC'):\n",
        "        # Buat path lengkap untuk file asal dan tujuan\n",
        "        path_asal = os.path.join(folder_asal, file_name)\n",
        "        path_tujuan = os.path.join(folder_tujuan, file_name.replace('.HEIC', '.JPG'))\n",
        "\n",
        "        # Buka foto HEIC menggunakan pyheif\n",
        "        heif_file = pyheif.read(path_asal)\n",
        "        image = Image.frombytes(\n",
        "            heif_file.mode, \n",
        "            heif_file.size, \n",
        "            heif_file.data,\n",
        "            \"raw\",\n",
        "            heif_file.mode,\n",
        "            heif_file.stride,\n",
        "        )\n",
        "\n",
        "        # Konversi foto ke format JPG\n",
        "        image.save(path_tujuan, 'JPEG')\n",
        "\n",
        "        # Tampilkan pesan konversi sukses\n",
        "        print(f\"Foto {file_name} berhasil dikonversi menjadi JPG\")\n",
        "\n",
        "print(\"Proses konversi selesai\")"
      ],
      "metadata": {
        "colab": {
          "base_uri": "https://localhost:8080/"
        },
        "id": "661H1fWYyaOK",
        "outputId": "6145b6d9-546d-41c8-d9a5-731642990d86"
      },
      "execution_count": 14,
      "outputs": [
        {
          "output_type": "stream",
          "name": "stdout",
          "text": [
            "Foto IMG_0467.HEIC berhasil dikonversi menjadi JPG\n",
            "Foto IMG_0449.HEIC berhasil dikonversi menjadi JPG\n",
            "Foto IMG_0524.HEIC berhasil dikonversi menjadi JPG\n",
            "Foto IMG_0275.HEIC berhasil dikonversi menjadi JPG\n",
            "Foto IMG_0342.HEIC berhasil dikonversi menjadi JPG\n",
            "Foto IMG_0485.HEIC berhasil dikonversi menjadi JPG\n",
            "Foto IMG_0274.HEIC berhasil dikonversi menjadi JPG\n",
            "Foto IMG_0438.HEIC berhasil dikonversi menjadi JPG\n",
            "Foto IMG_0521.HEIC berhasil dikonversi menjadi JPG\n",
            "Foto IMG_0486.HEIC berhasil dikonversi menjadi JPG\n",
            "Foto IMG_0512.HEIC berhasil dikonversi menjadi JPG\n",
            "Foto IMG_0499.HEIC berhasil dikonversi menjadi JPG\n",
            "Foto IMG_0503.HEIC berhasil dikonversi menjadi JPG\n",
            "Foto IMG_0455.HEIC berhasil dikonversi menjadi JPG\n",
            "Foto IMG_0300.HEIC berhasil dikonversi menjadi JPG\n",
            "Foto IMG_0498.HEIC berhasil dikonversi menjadi JPG\n",
            "Foto IMG_0417.HEIC berhasil dikonversi menjadi JPG\n",
            "Foto IMG_0439.HEIC berhasil dikonversi menjadi JPG\n",
            "Foto IMG_0272.HEIC berhasil dikonversi menjadi JPG\n",
            "Foto IMG_0341.HEIC berhasil dikonversi menjadi JPG\n",
            "Foto IMG_0491.HEIC berhasil dikonversi menjadi JPG\n",
            "Foto IMG_0276.HEIC berhasil dikonversi menjadi JPG\n",
            "Foto IMG_0488.HEIC berhasil dikonversi menjadi JPG\n",
            "Foto IMG_0516.HEIC berhasil dikonversi menjadi JPG\n",
            "Foto IMG_0471.HEIC berhasil dikonversi menjadi JPG\n",
            "Foto IMG_0518.HEIC berhasil dikonversi menjadi JPG\n",
            "Foto IMG_0505.HEIC berhasil dikonversi menjadi JPG\n",
            "Foto IMG_0507.HEIC berhasil dikonversi menjadi JPG\n",
            "Foto IMG_0517.HEIC berhasil dikonversi menjadi JPG\n",
            "Foto IMG_0519.HEIC berhasil dikonversi menjadi JPG\n",
            "Foto IMG_0317.HEIC berhasil dikonversi menjadi JPG\n",
            "Foto IMG_0267.HEIC berhasil dikonversi menjadi JPG\n",
            "Foto IMG_0268.HEIC berhasil dikonversi menjadi JPG\n",
            "Foto IMG_0522.HEIC berhasil dikonversi menjadi JPG\n",
            "Foto IMG_0299.HEIC berhasil dikonversi menjadi JPG\n",
            "Foto IMG_0277.HEIC berhasil dikonversi menjadi JPG\n",
            "Foto IMG_0259.HEIC berhasil dikonversi menjadi JPG\n",
            "Foto IMG_0340.HEIC berhasil dikonversi menjadi JPG\n",
            "Foto IMG_0261.HEIC berhasil dikonversi menjadi JPG\n",
            "Foto IMG_0273.HEIC berhasil dikonversi menjadi JPG\n",
            "Foto IMG_0319.HEIC berhasil dikonversi menjadi JPG\n",
            "Foto IMG_0506.HEIC berhasil dikonversi menjadi JPG\n",
            "Foto IMG_0290.HEIC berhasil dikonversi menjadi JPG\n",
            "Foto IMG_0392.HEIC berhasil dikonversi menjadi JPG\n",
            "Foto IMG_0501.HEIC berhasil dikonversi menjadi JPG\n",
            "Foto IMG_0295.HEIC berhasil dikonversi menjadi JPG\n",
            "Foto IMG_0502.HEIC berhasil dikonversi menjadi JPG\n",
            "Foto IMG_0422.HEIC berhasil dikonversi menjadi JPG\n",
            "Foto IMG_0416.HEIC berhasil dikonversi menjadi JPG\n",
            "Foto IMG_0270.HEIC berhasil dikonversi menjadi JPG\n",
            "Foto IMG_0377.HEIC berhasil dikonversi menjadi JPG\n",
            "Foto IMG_0468.HEIC berhasil dikonversi menjadi JPG\n",
            "Foto IMG_0413.HEIC berhasil dikonversi menjadi JPG\n",
            "Foto IMG_0415.HEIC berhasil dikonversi menjadi JPG\n",
            "Foto IMG_0320.HEIC berhasil dikonversi menjadi JPG\n",
            "Foto IMG_0288.HEIC berhasil dikonversi menjadi JPG\n",
            "Foto IMG_0504.HEIC berhasil dikonversi menjadi JPG\n",
            "Foto IMG_0327.HEIC berhasil dikonversi menjadi JPG\n",
            "Foto IMG_0412.HEIC berhasil dikonversi menjadi JPG\n",
            "Foto IMG_0399.HEIC berhasil dikonversi menjadi JPG\n",
            "Foto IMG_0509.HEIC berhasil dikonversi menjadi JPG\n",
            "Foto IMG_0496.HEIC berhasil dikonversi menjadi JPG\n",
            "Foto IMG_0384.HEIC berhasil dikonversi menjadi JPG\n",
            "Foto IMG_0520.HEIC berhasil dikonversi menjadi JPG\n",
            "Foto IMG_0301.HEIC berhasil dikonversi menjadi JPG\n",
            "Foto IMG_0459.HEIC berhasil dikonversi menjadi JPG\n",
            "Foto IMG_0257.HEIC berhasil dikonversi menjadi JPG\n",
            "Foto IMG_0460.HEIC berhasil dikonversi menjadi JPG\n",
            "Foto IMG_0510.HEIC berhasil dikonversi menjadi JPG\n",
            "Foto IMG_0263.HEIC berhasil dikonversi menjadi JPG\n",
            "Foto IMG_0254.HEIC berhasil dikonversi menjadi JPG\n",
            "Foto IMG_0418.HEIC berhasil dikonversi menjadi JPG\n",
            "Foto IMG_0269.HEIC berhasil dikonversi menjadi JPG\n",
            "Foto IMG_0470.HEIC berhasil dikonversi menjadi JPG\n",
            "Foto IMG_0489.HEIC berhasil dikonversi menjadi JPG\n",
            "Foto IMG_0484.HEIC berhasil dikonversi menjadi JPG\n",
            "Foto IMG_0316.HEIC berhasil dikonversi menjadi JPG\n",
            "Foto IMG_0391.HEIC berhasil dikonversi menjadi JPG\n",
            "Foto IMG_0298.HEIC berhasil dikonversi menjadi JPG\n",
            "Foto IMG_0256.HEIC berhasil dikonversi menjadi JPG\n",
            "Foto IMG_0264.HEIC berhasil dikonversi menjadi JPG\n",
            "Foto IMG_0414.HEIC berhasil dikonversi menjadi JPG\n",
            "Foto IMG_0266.HEIC berhasil dikonversi menjadi JPG\n",
            "Foto IMG_0385.HEIC berhasil dikonversi menjadi JPG\n",
            "Foto IMG_0345.HEIC berhasil dikonversi menjadi JPG\n",
            "Foto IMG_0433.HEIC berhasil dikonversi menjadi JPG\n",
            "Foto IMG_0292.HEIC berhasil dikonversi menjadi JPG\n",
            "Foto IMG_0318.HEIC berhasil dikonversi menjadi JPG\n",
            "Foto IMG_0490.HEIC berhasil dikonversi menjadi JPG\n",
            "Foto IMG_0508.HEIC berhasil dikonversi menjadi JPG\n",
            "Foto IMG_0312.HEIC berhasil dikonversi menjadi JPG\n",
            "Foto IMG_0437.HEIC berhasil dikonversi menjadi JPG\n",
            "Foto IMG_0325.HEIC berhasil dikonversi menjadi JPG\n",
            "Foto IMG_0379.HEIC berhasil dikonversi menjadi JPG\n",
            "Foto IMG_0458.HEIC berhasil dikonversi menjadi JPG\n",
            "Foto IMG_0289.HEIC berhasil dikonversi menjadi JPG\n",
            "Foto IMG_0381.HEIC berhasil dikonversi menjadi JPG\n",
            "Foto IMG_0293.HEIC berhasil dikonversi menjadi JPG\n",
            "Foto IMG_0347.HEIC berhasil dikonversi menjadi JPG\n",
            "Foto IMG_0425.HEIC berhasil dikonversi menjadi JPG\n",
            "Foto IMG_0465.HEIC berhasil dikonversi menjadi JPG\n",
            "Foto IMG_0308.HEIC berhasil dikonversi menjadi JPG\n",
            "Foto IMG_0393.HEIC berhasil dikonversi menjadi JPG\n",
            "Foto IMG_0324.HEIC berhasil dikonversi menjadi JPG\n",
            "Foto IMG_0258.HEIC berhasil dikonversi menjadi JPG\n",
            "Foto IMG_0443.HEIC berhasil dikonversi menjadi JPG\n",
            "Foto IMG_0487.HEIC berhasil dikonversi menjadi JPG\n",
            "Foto IMG_0424.HEIC berhasil dikonversi menjadi JPG\n",
            "Foto IMG_0348.HEIC berhasil dikonversi menjadi JPG\n",
            "Foto IMG_0344.HEIC berhasil dikonversi menjadi JPG\n",
            "Foto IMG_0463.HEIC berhasil dikonversi menjadi JPG\n",
            "Foto IMG_0339.HEIC berhasil dikonversi menjadi JPG\n",
            "Foto IMG_0322.HEIC berhasil dikonversi menjadi JPG\n",
            "Foto IMG_0446.HEIC berhasil dikonversi menjadi JPG\n",
            "Foto IMG_0404.HEIC berhasil dikonversi menjadi JPG\n",
            "Foto IMG_0302.HEIC berhasil dikonversi menjadi JPG\n",
            "Foto IMG_0401.HEIC berhasil dikonversi menjadi JPG\n",
            "Foto IMG_0442.HEIC berhasil dikonversi menjadi JPG\n",
            "Foto IMG_0380.HEIC berhasil dikonversi menjadi JPG\n",
            "Foto IMG_0386.HEIC berhasil dikonversi menjadi JPG\n",
            "Foto IMG_0309.HEIC berhasil dikonversi menjadi JPG\n",
            "Foto IMG_0405.HEIC berhasil dikonversi menjadi JPG\n",
            "Foto IMG_0397.HEIC berhasil dikonversi menjadi JPG\n",
            "Foto IMG_0282.HEIC berhasil dikonversi menjadi JPG\n",
            "Foto IMG_0500.HEIC berhasil dikonversi menjadi JPG\n",
            "Foto IMG_0390.HEIC berhasil dikonversi menjadi JPG\n",
            "Foto IMG_0383.HEIC berhasil dikonversi menjadi JPG\n",
            "Foto IMG_0291.HEIC berhasil dikonversi menjadi JPG\n",
            "Foto IMG_0251.HEIC berhasil dikonversi menjadi JPG\n",
            "Foto IMG_0461.HEIC berhasil dikonversi menjadi JPG\n",
            "Foto IMG_0283.HEIC berhasil dikonversi menjadi JPG\n",
            "Foto IMG_0382.HEIC berhasil dikonversi menjadi JPG\n",
            "Foto IMG_0423.HEIC berhasil dikonversi menjadi JPG\n",
            "Foto IMG_0362.HEIC berhasil dikonversi menjadi JPG\n",
            "Foto IMG_0408.HEIC berhasil dikonversi menjadi JPG\n",
            "Foto IMG_0435.HEIC berhasil dikonversi menjadi JPG\n",
            "Foto IMG_0311.HEIC berhasil dikonversi menjadi JPG\n",
            "Foto IMG_0406.HEIC berhasil dikonversi menjadi JPG\n",
            "Foto IMG_0402.HEIC berhasil dikonversi menjadi JPG\n",
            "Foto IMG_0369.HEIC berhasil dikonversi menjadi JPG\n",
            "Foto IMG_0265.HEIC berhasil dikonversi menjadi JPG\n",
            "Foto IMG_0294.HEIC berhasil dikonversi menjadi JPG\n",
            "Foto IMG_0466.HEIC berhasil dikonversi menjadi JPG\n",
            "Foto IMG_0286.HEIC berhasil dikonversi menjadi JPG\n",
            "Foto IMG_0452.HEIC berhasil dikonversi menjadi JPG\n",
            "Foto IMG_0495.HEIC berhasil dikonversi menjadi JPG\n",
            "Foto IMG_0409.HEIC berhasil dikonversi menjadi JPG\n",
            "Foto IMG_0297.HEIC berhasil dikonversi menjadi JPG\n",
            "Foto IMG_0361.HEIC berhasil dikonversi menjadi JPG\n",
            "Foto IMG_0250.HEIC berhasil dikonversi menjadi JPG\n",
            "Foto IMG_0400.HEIC berhasil dikonversi menjadi JPG\n",
            "Foto IMG_0306.HEIC berhasil dikonversi menjadi JPG\n",
            "Foto IMG_0432.HEIC berhasil dikonversi menjadi JPG\n",
            "Foto IMG_0373.HEIC berhasil dikonversi menjadi JPG\n",
            "Foto IMG_0284.HEIC berhasil dikonversi menjadi JPG\n",
            "Foto IMG_0473.HEIC berhasil dikonversi menjadi JPG\n",
            "Foto IMG_0351.HEIC berhasil dikonversi menjadi JPG\n",
            "Foto IMG_0378.HEIC berhasil dikonversi menjadi JPG\n",
            "Foto IMG_0303.HEIC berhasil dikonversi menjadi JPG\n",
            "Foto IMG_0314.HEIC berhasil dikonversi menjadi JPG\n",
            "Foto IMG_0407.HEIC berhasil dikonversi menjadi JPG\n",
            "Foto IMG_0523.HEIC berhasil dikonversi menjadi JPG\n",
            "Foto IMG_0403.HEIC berhasil dikonversi menjadi JPG\n",
            "Foto IMG_0252.HEIC berhasil dikonversi menjadi JPG\n",
            "Foto IMG_0497.HEIC berhasil dikonversi menjadi JPG\n",
            "Foto IMG_0287.HEIC berhasil dikonversi menjadi JPG\n",
            "Foto IMG_0323.HEIC berhasil dikonversi menjadi JPG\n",
            "Foto IMG_0441.HEIC berhasil dikonversi menjadi JPG\n",
            "Foto IMG_0354.HEIC berhasil dikonversi menjadi JPG\n",
            "Foto IMG_0462.HEIC berhasil dikonversi menjadi JPG\n",
            "Foto IMG_0353.HEIC berhasil dikonversi menjadi JPG\n",
            "Foto IMG_0429.HEIC berhasil dikonversi menjadi JPG\n",
            "Foto IMG_0375.HEIC berhasil dikonversi menjadi JPG\n",
            "Foto IMG_0359.HEIC berhasil dikonversi menjadi JPG\n",
            "Foto IMG_0262.HEIC berhasil dikonversi menjadi JPG\n",
            "Foto IMG_0360.HEIC berhasil dikonversi menjadi JPG\n",
            "Foto IMG_0387.HEIC berhasil dikonversi menjadi JPG\n",
            "Foto IMG_0388.HEIC berhasil dikonversi menjadi JPG\n",
            "Foto IMG_0434.HEIC berhasil dikonversi menjadi JPG\n",
            "Foto IMG_0376.HEIC berhasil dikonversi menjadi JPG\n",
            "Foto IMG_0310.HEIC berhasil dikonversi menjadi JPG\n",
            "Foto IMG_0374.HEIC berhasil dikonversi menjadi JPG\n",
            "Foto IMG_0440.HEIC berhasil dikonversi menjadi JPG\n",
            "Foto IMG_0352.HEIC berhasil dikonversi menjadi JPG\n",
            "Foto IMG_0398.HEIC berhasil dikonversi menjadi JPG\n",
            "Foto IMG_0356.HEIC berhasil dikonversi menjadi JPG\n",
            "Foto IMG_0428.HEIC berhasil dikonversi menjadi JPG\n",
            "Foto IMG_0430.HEIC berhasil dikonversi menjadi JPG\n",
            "Foto IMG_0358.HEIC berhasil dikonversi menjadi JPG\n",
            "Foto IMG_0357.HEIC berhasil dikonversi menjadi JPG\n",
            "Foto IMG_0457.HEIC berhasil dikonversi menjadi JPG\n",
            "Foto IMG_0475.HEIC berhasil dikonversi menjadi JPG\n",
            "Foto IMG_0271.HEIC berhasil dikonversi menjadi JPG\n",
            "Foto IMG_0253.HEIC berhasil dikonversi menjadi JPG\n",
            "Foto IMG_0368.HEIC berhasil dikonversi menjadi JPG\n",
            "Foto IMG_0372.HEIC berhasil dikonversi menjadi JPG\n",
            "Foto IMG_0511.HEIC berhasil dikonversi menjadi JPG\n",
            "Foto IMG_0336.HEIC berhasil dikonversi menjadi JPG\n",
            "Foto IMG_0355.HEIC berhasil dikonversi menjadi JPG\n",
            "Foto IMG_0469.HEIC berhasil dikonversi menjadi JPG\n",
            "Foto IMG_0420.HEIC berhasil dikonversi menjadi JPG\n",
            "Foto IMG_0447.HEIC berhasil dikonversi menjadi JPG\n",
            "Foto IMG_0474.HEIC berhasil dikonversi menjadi JPG\n",
            "Foto IMG_0346.HEIC berhasil dikonversi menjadi JPG\n",
            "Foto IMG_0396.HEIC berhasil dikonversi menjadi JPG\n",
            "Foto IMG_0389.HEIC berhasil dikonversi menjadi JPG\n",
            "Foto IMG_0427.HEIC berhasil dikonversi menjadi JPG\n",
            "Foto IMG_0394.HEIC berhasil dikonversi menjadi JPG\n",
            "Foto IMG_0321.HEIC berhasil dikonversi menjadi JPG\n",
            "Foto IMG_0514.HEIC berhasil dikonversi menjadi JPG\n",
            "Foto IMG_0513.HEIC berhasil dikonversi menjadi JPG\n",
            "Foto IMG_0454.HEIC berhasil dikonversi menjadi JPG\n",
            "Foto IMG_0411.HEIC berhasil dikonversi menjadi JPG\n",
            "Foto IMG_0333.HEIC berhasil dikonversi menjadi JPG\n",
            "Foto IMG_0448.HEIC berhasil dikonversi menjadi JPG\n",
            "Foto IMG_0436.HEIC berhasil dikonversi menjadi JPG\n",
            "Foto IMG_0326.HEIC berhasil dikonversi menjadi JPG\n",
            "Foto IMG_0395.HEIC berhasil dikonversi menjadi JPG\n",
            "Foto IMG_0476.HEIC berhasil dikonversi menjadi JPG\n",
            "Foto IMG_0456.HEIC berhasil dikonversi menjadi JPG\n",
            "Foto IMG_0371.HEIC berhasil dikonversi menjadi JPG\n",
            "Foto IMG_0363.HEIC berhasil dikonversi menjadi JPG\n",
            "Foto IMG_0483.HEIC berhasil dikonversi menjadi JPG\n",
            "Foto IMG_0464.HEIC berhasil dikonversi menjadi JPG\n",
            "Foto IMG_0285.HEIC berhasil dikonversi menjadi JPG\n",
            "Foto IMG_0453.HEIC berhasil dikonversi menjadi JPG\n",
            "Foto IMG_0350.HEIC berhasil dikonversi menjadi JPG\n",
            "Foto IMG_0281.HEIC berhasil dikonversi menjadi JPG\n",
            "Foto IMG_0313.HEIC berhasil dikonversi menjadi JPG\n",
            "Foto IMG_0370.HEIC berhasil dikonversi menjadi JPG\n",
            "Foto IMG_0305.HEIC berhasil dikonversi menjadi JPG\n",
            "Foto IMG_0410.HEIC berhasil dikonversi menjadi JPG\n",
            "Foto IMG_0304.HEIC berhasil dikonversi menjadi JPG\n",
            "Foto IMG_0364.HEIC berhasil dikonversi menjadi JPG\n",
            "Foto IMG_0482.HEIC berhasil dikonversi menjadi JPG\n",
            "Foto IMG_0337.HEIC berhasil dikonversi menjadi JPG\n",
            "Foto IMG_0421.HEIC berhasil dikonversi menjadi JPG\n",
            "Foto IMG_0331.HEIC berhasil dikonversi menjadi JPG\n",
            "Foto IMG_0334.HEIC berhasil dikonversi menjadi JPG\n",
            "Foto IMG_0450.HEIC berhasil dikonversi menjadi JPG\n",
            "Foto IMG_0426.HEIC berhasil dikonversi menjadi JPG\n",
            "Foto IMG_0472.HEIC berhasil dikonversi menjadi JPG\n",
            "Foto IMG_0330.HEIC berhasil dikonversi menjadi JPG\n",
            "Foto IMG_0481.HEIC berhasil dikonversi menjadi JPG\n",
            "Foto IMG_0315.HEIC berhasil dikonversi menjadi JPG\n",
            "Foto IMG_0478.HEIC berhasil dikonversi menjadi JPG\n",
            "Foto IMG_0332.HEIC berhasil dikonversi menjadi JPG\n",
            "Foto IMG_0338.HEIC berhasil dikonversi menjadi JPG\n",
            "Foto IMG_0349.HEIC berhasil dikonversi menjadi JPG\n",
            "Foto IMG_0365.HEIC berhasil dikonversi menjadi JPG\n",
            "Foto IMG_0367.HEIC berhasil dikonversi menjadi JPG\n",
            "Foto IMG_0366.HEIC berhasil dikonversi menjadi JPG\n",
            "Foto IMG_0479.HEIC berhasil dikonversi menjadi JPG\n",
            "Foto IMG_0480.HEIC berhasil dikonversi menjadi JPG\n",
            "Foto IMG_0477.HEIC berhasil dikonversi menjadi JPG\n",
            "Proses konversi selesai\n"
          ]
        }
      ]
    },
    {
      "cell_type": "code",
      "source": [
        "# Cari semua file dengan ekstensi .heic di dalam folder\n",
        "jpg_files = glob.glob(f\"{folder_tujuan}/*.JPG\")\n",
        "\n",
        "# Hitung jumlah file dengan format .heic\n",
        "jumlah_foto_heic = len(jpg_files)\n",
        "\n",
        "# Tampilkan hasil\n",
        "print(f\"Jumlah foto dengan format HEIC: {jumlah_foto_JPG}\")"
      ],
      "metadata": {
        "colab": {
          "base_uri": "https://localhost:8080/"
        },
        "id": "NqMf9Aqfz4cO",
        "outputId": "80ea36fe-5e16-4598-f4cd-26a66aa6af58"
      },
      "execution_count": 16,
      "outputs": [
        {
          "output_type": "stream",
          "name": "stdout",
          "text": [
            "Jumlah foto dengan format HEIC: 255\n"
          ]
        }
      ]
    }
  ]
}