{
  "cells": [
    {
      "attachments": {},
      "cell_type": "markdown",
      "metadata": {
        "id": "MsbRxxikXPVB"
      },
      "source": []
    },
    {
      "cell_type": "code",
      "execution_count": 16,
      "metadata": {
        "id": "8xYLpAI9XPVG"
      },
      "outputs": [],
      "source": [
        "from google.colab import drive\n",
        "import os\n",
        "from shutil import copyfile\n",
        "import random"
      ]
    },
    {
      "cell_type": "code",
      "execution_count": 9,
      "metadata": {
        "colab": {
          "base_uri": "https://localhost:8080/"
        },
        "id": "xx3PZCWCYmzH",
        "outputId": "68a6230c-9435-488e-dd32-402354418fcc"
      },
      "outputs": [
        {
          "name": "stdout",
          "output_type": "stream",
          "text": [
            "Drive already mounted at /content/drive; to attempt to forcibly remount, call drive.mount(\"/content/drive\", force_remount=True).\n"
          ]
        }
      ],
      "source": [
        "drive.mount('/content/drive')"
      ]
    },
    {
      "cell_type": "code",
      "execution_count": 17,
      "metadata": {
        "id": "RNkw8nKLXPVK"
      },
      "outputs": [],
      "source": [
        "def split_data(SOURCE_DIR, TRAINING_DIR, VALIDATION_DIR, SPLIT_SIZE):\n",
        "\n",
        "  shuffled_source = random.sample(os.listdir(SOURCE_DIR), len(os.listdir(SOURCE_DIR)))\n",
        "  training_number = int(len(shuffled_source) * SPLIT_SIZE)\n",
        "\n",
        "  i = 0\n",
        "  target = TRAINING_DIR\n",
        "\n",
        "  for i, item in enumerate(shuffled_source):\n",
        "    item_source = os.path.join(SOURCE_DIR, item)\n",
        "    if os.path.getsize(item_source) == 0:\n",
        "        print(f'{item} is zero length, so ignoring.')\n",
        "    else:\n",
        "        copyfile(item_source, os.path.join(target, item))\n",
        "\n",
        "    if i + 1 == training_number:\n",
        "        target = VALIDATION_DIR"
      ]
    },
    {
      "cell_type": "code",
      "execution_count": null,
      "metadata": {
        "colab": {
          "base_uri": "https://localhost:8080/"
        },
        "id": "J9ERKOaJXQ6m",
        "outputId": "84777478-ee3e-47a0-f7ad-bc74831c66f2"
      },
      "outputs": [],
      "source": [
        "CRACK_SOURCE_DIR =  '/content/drive/MyDrive/Capstone Dataset/Crack'\n",
        "POTHOLE_SOURCE_DIR =  '/content/drive/MyDrive/Capstone Dataset/Pothole'\n",
        "\n",
        "# Your function should perform copies rather than moving images so original directories should contain unchanged images\n",
        "print(f\"Original crack's directory has {len(os.listdir(CRACK_SOURCE_DIR))} images\")\n",
        "print(f\"Original pothole's directory has {len(os.listdir(POTHOLE_SOURCE_DIR))} images\")\n"
      ]
    },
    {
      "cell_type": "code",
      "execution_count": 12,
      "metadata": {
        "id": "uF3WBeSHXPVL"
      },
      "outputs": [],
      "source": [
        "TRAINING_DIR = \"/content/drive/MyDrive/Capstone Dataset/training\"\n",
        "VALIDATION_DIR = \"/content/drive/MyDrive/Capstone Dataset/validation\"\n",
        "\n",
        "\n",
        "TRAINING_CRACK_DIR = os.path.join(TRAINING_DIR, \"crack\")\n",
        "VALIDATION_CRACK_DIR = os.path.join(VALIDATION_DIR, \"crack\")\n",
        "\n",
        "TRAINING_POTHOLE_DIR = os.path.join(TRAINING_DIR, \"pothole\")\n",
        "VALIDATION_POTHOLE_DIR = os.path.join(VALIDATION_DIR, \"pothole\")"
      ]
    },
    {
      "cell_type": "code",
      "execution_count": 13,
      "metadata": {
        "id": "Wd0fOyUtXPVL"
      },
      "outputs": [],
      "source": [
        "# Create directories if they don't exist\n",
        "os.makedirs(TRAINING_CRACK_DIR, exist_ok=True)\n",
        "os.makedirs(VALIDATION_CRACK_DIR, exist_ok=True)\n",
        "\n",
        "os.makedirs(TRAINING_POTHOLE_DIR, exist_ok=True)\n",
        "os.makedirs(VALIDATION_POTHOLE_DIR, exist_ok=True)"
      ]
    },
    {
      "cell_type": "code",
      "execution_count": 14,
      "metadata": {
        "id": "MgGLEXWUXPVM"
      },
      "outputs": [],
      "source": [
        "# Empty directories in case you run this cell multiple times\n",
        "if len(os.listdir(TRAINING_CRACK_DIR)) > 0:\n",
        "  for file in os.scandir(TRAINING_CRACK_DIR):\n",
        "    os.remove(file.path)\n",
        "if len(os.listdir(TRAINING_POTHOLE_DIR)) > 0:\n",
        "  for file in os.scandir(TRAINING_POTHOLE_DIR):\n",
        "    os.remove(file.path)\n",
        "\n",
        "if len(os.listdir(VALIDATION_CRACK_DIR)) > 0:\n",
        "  for file in os.scandir(VALIDATION_CRACK_DIR):\n",
        "    os.remove(file.path)\n",
        "if len(os.listdir(VALIDATION_POTHOLE_DIR)) > 0:\n",
        "  for file in os.scandir(VALIDATION_POTHOLE_DIR):\n",
        "    os.remove(file.path)"
      ]
    },
    {
      "cell_type": "code",
      "execution_count": 18,
      "metadata": {
        "id": "dXAsOAeaXPVN"
      },
      "outputs": [],
      "source": [
        "# Define proportion of images used for training\n",
        "split_size = .9\n",
        "\n",
        "# Run the function\n",
        "# NOTE: Messages about zero length images should be printed out\n",
        "split_data(CRACK_SOURCE_DIR , TRAINING_CRACK_DIR, VALIDATION_CRACK_DIR, split_size)\n",
        "split_data(POTHOLE_SOURCE_DIR, TRAINING_POTHOLE_DIR, VALIDATION_POTHOLE_DIR, split_size)"
      ]
    },
    {
      "cell_type": "code",
      "execution_count": null,
      "metadata": {
        "colab": {
          "base_uri": "https://localhost:8080/"
        },
        "id": "nnMjnGo4XPVN",
        "outputId": "575de93a-0e22-490f-cc24-e9cf23814840"
      },
      "outputs": [],
      "source": [
        "# Your function should perform copies rather than moving images so original directories should contain unchanged images\n",
        "print(f\"Original crack's directory has {len(os.listdir(CRACK_SOURCE_DIR))} images\")\n",
        "print(f\"Original pothole's directory has {len(os.listdir(POTHOLE_SOURCE_DIR))} images\\n\")\n",
        "\n",
        "# Training and validation splits\n",
        "print(f\"There are {len(os.listdir(TRAINING_CRACK_DIR))} images of crack for training\")\n",
        "print(f\"There are {len(os.listdir(TRAINING_POTHOLE_DIR))} images of pothole for training\\n\")\n",
        "\n",
        "print(f\"There are {len(os.listdir(VALIDATION_CRACK_DIR))} images of crack for validation\")\n",
        "print(f\"There are {len(os.listdir(VALIDATION_POTHOLE_DIR))} images of pothole for validation\")"
      ]
    }
  ],
  "metadata": {
    "colab": {
      "provenance": []
    },
    "kernelspec": {
      "display_name": "Python 3",
      "language": "python",
      "name": "python3"
    },
    "language_info": {
      "codemirror_mode": {
        "name": "ipython",
        "version": 3
      },
      "file_extension": ".py",
      "mimetype": "text/x-python",
      "name": "python",
      "nbconvert_exporter": "python",
      "pygments_lexer": "ipython3",
      "version": "3.11.3"
    },
    "orig_nbformat": 4
  },
  "nbformat": 4,
  "nbformat_minor": 0
}
