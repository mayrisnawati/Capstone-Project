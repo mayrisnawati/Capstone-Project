{
 "cells": [
  {
   "cell_type": "code",
   "execution_count": 4,
   "metadata": {},
   "outputs": [],
   "source": [
    "import os\n",
    "\n",
    "path = \"D:\\Capstone Project\\Dataset\\Crack\"\n",
    "#\"D:\\Capstone Project\\Dataset\\Good\"\n",
    "#\"D:\\Capstone Project\\Dataset\\Pothole\"\n",
    "\n",
    "files = os.listdir(path)\n",
    "\n",
    "# Menentukan format penamaan file\n",
    "format_name = 'Crack_{:04d}'\n",
    "\n",
    "# Mengubah nama file sesuai format yang ditentukan\n",
    "for i, file in enumerate(files):\n",
    "    ext = os.path.splitext(file)[-1]\n",
    "    new_name = format_name.format(i+1) + ext\n",
    "    os.rename(os.path.join(path, file), os.path.join(path, new_name))\n"
   ]
  },
  {
   "attachments": {},
   "cell_type": "markdown",
   "metadata": {},
   "source": []
  }
 ],
 "metadata": {
  "kernelspec": {
   "display_name": "Python 3",
   "language": "python",
   "name": "python3"
  },
  "language_info": {
   "codemirror_mode": {
    "name": "ipython",
    "version": 3
   },
   "file_extension": ".py",
   "mimetype": "text/x-python",
   "name": "python",
   "nbconvert_exporter": "python",
   "pygments_lexer": "ipython3",
   "version": "3.11.3"
  },
  "orig_nbformat": 4
 },
 "nbformat": 4,
 "nbformat_minor": 2
}
